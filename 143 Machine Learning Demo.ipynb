{
 "cells": [
  {
   "cell_type": "markdown",
   "metadata": {},
   "source": [
    "# Digit Recognition"
   ]
  },
  {
   "cell_type": "markdown",
   "metadata": {},
   "source": [
    "Let's say we want to develop a model to recognize digits (for example, if we see ![image](picOf2.png) then we probably want our model to *output* the number 2). Most of machine learning relies on the idea that we can *train* models using data. For this demo, we'll be training our model on a dataset called [MNIST](http://yann.lecun.com/exdb/mnist/). To get started with the actual coding, we're going to need some **import** statements. These are very similar to Java's imports!"
   ]
  },
  {
   "cell_type": "code",
   "execution_count": 1,
   "metadata": {},
   "outputs": [],
   "source": [
    "import pandas as pd              # used for getting dataframe\n",
    "import matplotlib.pyplot as plt  # used for plotting\n",
    "import numpy as np               # used for random selection at the end\n",
    "\n",
    "'''\n",
    "CONSTANTS\n",
    "'''\n",
    "NUM_EPOCHS = 300      # number of iterations we want to run through the data\n",
    "NUM_TRAIN = 40000     # number of training samples\n",
    "NUM_TEST_IMAGES = 10  # number of test visualization images"
   ]
  },
  {
   "cell_type": "markdown",
   "metadata": {},
   "source": [
    "The next thing we're going to need to do is get the data from our files. To do this, we're going to use the **pandas** library we imported above!"
   ]
  },
  {
   "cell_type": "code",
   "execution_count": 2,
   "metadata": {},
   "outputs": [],
   "source": [
    "dataframe = pd.read_csv(\"train.csv\")"
   ]
  },
  {
   "cell_type": "markdown",
   "metadata": {},
   "source": [
    "Awesome! Now, let's try to print out the data to see what it looks like..."
   ]
  },
  {
   "cell_type": "code",
   "execution_count": 3,
   "metadata": {},
   "outputs": [
    {
     "name": "stdout",
     "output_type": "stream",
     "text": [
      "       label  pixel0  pixel1  pixel2  pixel3  pixel4  pixel5  pixel6  pixel7  \\\n",
      "0          1       0       0       0       0       0       0       0       0   \n",
      "1          0       0       0       0       0       0       0       0       0   \n",
      "2          1       0       0       0       0       0       0       0       0   \n",
      "3          4       0       0       0       0       0       0       0       0   \n",
      "4          0       0       0       0       0       0       0       0       0   \n",
      "...      ...     ...     ...     ...     ...     ...     ...     ...     ...   \n",
      "41995      0       0       0       0       0       0       0       0       0   \n",
      "41996      1       0       0       0       0       0       0       0       0   \n",
      "41997      7       0       0       0       0       0       0       0       0   \n",
      "41998      6       0       0       0       0       0       0       0       0   \n",
      "41999      9       0       0       0       0       0       0       0       0   \n",
      "\n",
      "       pixel8  ...  pixel774  pixel775  pixel776  pixel777  pixel778  \\\n",
      "0           0  ...         0         0         0         0         0   \n",
      "1           0  ...         0         0         0         0         0   \n",
      "2           0  ...         0         0         0         0         0   \n",
      "3           0  ...         0         0         0         0         0   \n",
      "4           0  ...         0         0         0         0         0   \n",
      "...       ...  ...       ...       ...       ...       ...       ...   \n",
      "41995       0  ...         0         0         0         0         0   \n",
      "41996       0  ...         0         0         0         0         0   \n",
      "41997       0  ...         0         0         0         0         0   \n",
      "41998       0  ...         0         0         0         0         0   \n",
      "41999       0  ...         0         0         0         0         0   \n",
      "\n",
      "       pixel779  pixel780  pixel781  pixel782  pixel783  \n",
      "0             0         0         0         0         0  \n",
      "1             0         0         0         0         0  \n",
      "2             0         0         0         0         0  \n",
      "3             0         0         0         0         0  \n",
      "4             0         0         0         0         0  \n",
      "...         ...       ...       ...       ...       ...  \n",
      "41995         0         0         0         0         0  \n",
      "41996         0         0         0         0         0  \n",
      "41997         0         0         0         0         0  \n",
      "41998         0         0         0         0         0  \n",
      "41999         0         0         0         0         0  \n",
      "\n",
      "[42000 rows x 785 columns]\n"
     ]
    }
   ],
   "source": [
    "print(dataframe)"
   ]
  },
  {
   "cell_type": "markdown",
   "metadata": {},
   "source": [
    "Now we're going to need to import some machine learning libraries. For this demo, we'll be using Pytorch, a popular framework for machine learning in Python."
   ]
  },
  {
   "cell_type": "code",
   "execution_count": 4,
   "metadata": {},
   "outputs": [],
   "source": [
    "import torch"
   ]
  },
  {
   "cell_type": "markdown",
   "metadata": {},
   "source": [
    "It's finally time to build a model!"
   ]
  },
  {
   "cell_type": "code",
   "execution_count": 16,
   "metadata": {},
   "outputs": [],
   "source": [
    "# here, we use inheritance in Python (DigitRecognizer extends torch.nn.Module)\n",
    "class DigitRecognizer(torch.nn.Module):\n",
    "\n",
    "    # self is like the 'this' keyword in Java\n",
    "    def __init__(self):\n",
    "        '''\n",
    "        This method is our constructor!\n",
    "        '''\n",
    "        \n",
    "        super().__init__()\n",
    "        \n",
    "        #    syntax:   torch.nn.Linear(input dimensions, output dimensions)\n",
    "        self.linear1 = torch.nn.Linear(784, 100)\n",
    "        self.linear2 = torch.nn.Linear(100, 10)\n",
    "        \n",
    "    \n",
    "    def forward(self, x):\n",
    "        '''\n",
    "        This method is how we \"process\" the input x to get the output y\n",
    "        '''\n",
    "        first_layer_output = self.linear1(x)\n",
    "        final_output = self.linear2(first_layer_output)\n",
    "        \n",
    "        return final_output"
   ]
  },
  {
   "cell_type": "markdown",
   "metadata": {},
   "source": [
    "Before all else, let's instantiate the model. In Python, the syntax for instantiating classes looks like:"
   ]
  },
  {
   "cell_type": "code",
   "execution_count": 12,
   "metadata": {},
   "outputs": [],
   "source": [
    "model = DigitRecognizer()"
   ]
  },
  {
   "cell_type": "markdown",
   "metadata": {},
   "source": [
    "The next step is to actually *train* the model. This is where our dataframe is going to come in handy! The actual training process here involves something called [backpropagation](https://en.wikipedia.org/wiki/Backpropagation); for our purposes, this is how we minimize the error (or *loss*) in our model's predictions."
   ]
  },
  {
   "cell_type": "code",
   "execution_count": 13,
   "metadata": {},
   "outputs": [
    {
     "name": "stdout",
     "output_type": "stream",
     "text": [
      "Training error (loss) at epoch 0: 77.60816955566406\n",
      "\n",
      "Training error (loss) at epoch 100: 2.2094473838806152\n",
      "\n",
      "Training error (loss) at epoch 200: 1.2152860164642334\n",
      "\n"
     ]
    }
   ],
   "source": [
    "# used to keep track of error (or loss)\n",
    "loss_fn = torch.nn.CrossEntropyLoss()\n",
    "\n",
    "# used to perform backpropagation\n",
    "optimizer = torch.optim.Adam(model.parameters())\n",
    "\n",
    "# let's split data into input (or x) and label (or y) after preprocessing\n",
    "x, y = torch.tensor(dataframe.loc[:, dataframe.columns != \"label\"].to_numpy(),\n",
    "                    dtype=torch.float32), torch.tensor(dataframe[\"label\"])\n",
    "\n",
    "# split x and y into train / test\n",
    "x_train, y_train = x[:NUM_TRAIN], y[:NUM_TRAIN]\n",
    "x_test, y_test = x[NUM_TRAIN:], y[NUM_TRAIN:]\n",
    "\n",
    "\n",
    "'''\n",
    "TRAINING THE MODEL\n",
    "'''\n",
    "for i in range(NUM_EPOCHS):\n",
    "    optimizer.zero_grad()\n",
    "    \n",
    "    # get the model's prediction based on the input data\n",
    "    y_pred = model(x_train)\n",
    "    \n",
    "    # compute loss of prediction\n",
    "    loss = loss_fn(y_pred, y_train)\n",
    "    \n",
    "    # compute gradient for all weights based on prediction\n",
    "    loss.backward()\n",
    "    \n",
    "    # backpropagate the gradients for all weights\n",
    "    optimizer.step()\n",
    "    \n",
    "    if (i % 100 == 0):\n",
    "        print(\"Training error (loss) at epoch %d:\" % i, loss.item())\n",
    "        print()"
   ]
  },
  {
   "cell_type": "markdown",
   "metadata": {},
   "source": [
    "Woohoo! Our model has been trained and the loss hopefully looks pretty low. Now comes the fun part: let's predict on some *test* data (for our purposes, test data is data that looks similar to the training data we just used except that we don't train on the test data; in practice, we'd want to also think about the distribution of our data and be very careful to avoid a problem called [data leaking](https://machinelearningmastery.com/data-leakage-machine-learning/))."
   ]
  },
  {
   "cell_type": "code",
   "execution_count": 14,
   "metadata": {},
   "outputs": [
    {
     "name": "stdout",
     "output_type": "stream",
     "text": [
      "Test error (loss): 1.6141208410263062\n"
     ]
    }
   ],
   "source": [
    "y_pred = model(x_test)\n",
    "loss = loss_fn(y_pred, y_test)\n",
    "\n",
    "print(\"Test error (loss):\", loss.item())"
   ]
  },
  {
   "cell_type": "markdown",
   "metadata": {},
   "source": [
    "Not bad, considering that our model had never directly seen this data before! To better discern the quality of the predictions, let's try visualizing them."
   ]
  },
  {
   "cell_type": "code",
   "execution_count": 15,
   "metadata": {},
   "outputs": [
    {
     "data": {
      "image/png": "[encoded data removed]",
      "text/plain": [
       "<Figure size 432x288 with 1 Axes>"
      ]
     },
     "metadata": {
      "needs_background": "light"
     },
     "output_type": "display_data"
    },
    {
     "data": {
      "image/png": "[encoded data removed]",
      "text/plain": [
       "<Figure size 432x288 with 1 Axes>"
      ]
     },
     "metadata": {
      "needs_background": "light"
     },
     "output_type": "display_data"
    },
    {
     "data": {
      "image/png": "[encoded data removed]",
      "text/plain": [
       "<Figure size 432x288 with 1 Axes>"
      ]
     },
     "metadata": {
      "needs_background": "light"
     },
     "output_type": "display_data"
    },
    {
     "data": {
      "image/png": "[encoded data removed]",
      "text/plain": [
       "<Figure size 432x288 with 1 Axes>"
      ]
     },
     "metadata": {
      "needs_background": "light"
     },
     "output_type": "display_data"
    },
    {
     "data": {
      "image/png": "[encoded data removed]",
      "text/plain": [
       "<Figure size 432x288 with 1 Axes>"
      ]
     },
     "metadata": {
      "needs_background": "light"
     },
     "output_type": "display_data"
    },
    {
     "data": {
      "image/png": "[encoded data removed]",
      "text/plain": [
       "<Figure size 432x288 with 1 Axes>"
      ]
     },
     "metadata": {
      "needs_background": "light"
     },
     "output_type": "display_data"
    },
    {
     "data": {
      "image/png": "[encoded data removed]",
      "text/plain": [
       "<Figure size 432x288 with 1 Axes>"
      ]
     },
     "metadata": {
      "needs_background": "light"
     },
     "output_type": "display_data"
    },
    {
     "data": {
      "image/png": "[encoded data removed]",
      "text/plain": [
       "<Figure size 432x288 with 1 Axes>"
      ]
     },
     "metadata": {
      "needs_background": "light"
     },
     "output_type": "display_data"
    },
    {
     "data": {
      "image/png": "[encoded data removed]",
      "text/plain": [
       "<Figure size 432x288 with 1 Axes>"
      ]
     },
     "metadata": {
      "needs_background": "light"
     },
     "output_type": "display_data"
    },
    {
     "data": {
      "image/png": "[encoded data removed]",
      "text/plain": [
       "<Figure size 432x288 with 1 Axes>"
      ]
     },
     "metadata": {
      "needs_background": "light"
     },
     "output_type": "display_data"
    }
   ],
   "source": [
    "# randomize inputs so that we can see different visualizations\n",
    "random_idxs = np.random.choice(np.arange(len(x_test)), size=NUM_TEST_IMAGES, replace=False)\n",
    "x_test_random = x_test[random_idxs]\n",
    "y_test_random = y_test[random_idxs]\n",
    "\n",
    "for i in range(NUM_TEST_IMAGES):\n",
    "    # reshape row data into a 28x28 image (2-dimensional array)\n",
    "    x_img = x_test_random[i].reshape((28, 28))\n",
    "    y_pred = np.argmax(model(x_test_random[i]).detach().numpy())\n",
    "\n",
    "    # plot\n",
    "    plt.title('predict: %d, label: %d' % (y_pred, y_test_random[i]), fontsize=20)\n",
    "    plt.imshow(x_img, cmap='gray')\n",
    "    plt.show()"
   ]
  },
  {
   "cell_type": "markdown",
   "metadata": {},
   "source": [
    "Yay! These hopefully look pretty convincing! That's all for now, feel free to experiment with the code : -)"
   ]
  },
  {
   "cell_type": "code",
   "execution_count": null,
   "metadata": {},
   "outputs": [],
   "source": []
  }
 ],
 "metadata": {
  "kernelspec": {
   "display_name": "Python 3",
   "language": "python",
   "name": "python3"
  },
  "language_info": {
   "codemirror_mode": {
    "name": "ipython",
    "version": 3
   },
   "file_extension": ".py",
   "mimetype": "text/x-python",
   "name": "python",
   "nbconvert_exporter": "python",
   "pygments_lexer": "ipython3",
   "version": "3.8.5"
  }
 },
 "nbformat": 4,
 "nbformat_minor": 4
}
